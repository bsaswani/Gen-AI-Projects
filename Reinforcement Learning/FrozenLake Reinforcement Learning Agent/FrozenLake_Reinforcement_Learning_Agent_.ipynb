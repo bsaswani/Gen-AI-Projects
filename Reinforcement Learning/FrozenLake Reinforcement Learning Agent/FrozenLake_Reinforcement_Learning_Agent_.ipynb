{
  "nbformat": 4,
  "nbformat_minor": 0,
  "metadata": {
    "colab": {
      "provenance": [],
      "gpuType": "T4"
    },
    "kernelspec": {
      "name": "python3",
      "display_name": "Python 3"
    },
    "language_info": {
      "name": "python"
    },
    "accelerator": "GPU"
  },
  "cells": [
    {
      "cell_type": "markdown",
      "source": [
        "# **FrozenLake Reinforcement Learning Agent**"
      ],
      "metadata": {
        "id": "BGFQ9TzJUuh7"
      }
    },
    {
      "cell_type": "code",
      "execution_count": 1,
      "metadata": {
        "id": "E8QksWPjAsL5"
      },
      "outputs": [],
      "source": [
        "# Step 1: Import Libraries\n",
        "import gymnasium as gym\n",
        "import numpy as np"
      ]
    },
    {
      "cell_type": "code",
      "source": [
        "# Step 2: Create environments\n",
        "env = gym.make(\"FrozenLake-v1\", is_slippery=False)\n",
        "test_env = gym.make(\"FrozenLake-v1\", is_slippery=False)"
      ],
      "metadata": {
        "id": "ANwRduWABAje"
      },
      "execution_count": 2,
      "outputs": []
    },
    {
      "cell_type": "code",
      "source": [
        "# Step 3: Initialize Q-table\n",
        "state_size = env.observation_space.n\n",
        "action_size = env.action_space.n\n",
        "q_table = np.zeros((state_size, action_size))"
      ],
      "metadata": {
        "id": "vQsE4OdCS4Gf"
      },
      "execution_count": 3,
      "outputs": []
    },
    {
      "cell_type": "code",
      "source": [
        "# Step 4: Define hyperparameters\n",
        "num_episodes = 3000\n",
        "max_steps = 100\n",
        "alpha = 0.8\n",
        "gamma = 0.95\n",
        "epsilon = 1.0\n",
        "epsilon_decay = 0.995\n",
        "min_epsilon = 0.05"
      ],
      "metadata": {
        "id": "EIKtUsPPS91q"
      },
      "execution_count": 4,
      "outputs": []
    },
    {
      "cell_type": "code",
      "source": [
        "# Step 5: Training loop\n",
        "for episode in range(num_episodes):\n",
        "    state, _ = env.reset()\n",
        "    done = False\n",
        "    total_reward = 0\n",
        "\n",
        "    for step in range(max_steps):\n",
        "        # ε-greedy policy\n",
        "        if np.random.rand() < epsilon:\n",
        "            action = env.action_space.sample()\n",
        "        else:\n",
        "            action = np.argmax(q_table[state])\n",
        "\n",
        "        next_state, reward, terminated, truncated, _ = env.step(action)\n",
        "        done = terminated or truncated\n",
        "\n",
        "        # Q-learning update rule\n",
        "        q_table[state, action] = q_table[state, action] + alpha * (\n",
        "            reward + gamma * np.max(q_table[next_state]) - q_table[state, action]\n",
        "        )\n",
        "\n",
        "        state = next_state\n",
        "        total_reward += reward\n",
        "\n",
        "        if done:\n",
        "            break\n",
        "\n",
        "    epsilon = max(min_epsilon, epsilon * epsilon_decay)\n",
        "\n",
        "    if (episode + 1) % 500 == 0:\n",
        "        print(f\"Episode {episode + 1}: Total Reward = {total_reward}\")\n",
        "\n",
        "print(\"\\n Training complete!\")"
      ],
      "metadata": {
        "colab": {
          "base_uri": "https://localhost:8080/"
        },
        "id": "lTzJmwfyTHGB",
        "outputId": "6ae09ca6-cf36-43fb-940d-65578c39a50d"
      },
      "execution_count": 5,
      "outputs": [
        {
          "output_type": "stream",
          "name": "stdout",
          "text": [
            "Episode 500: Total Reward = 1\n",
            "Episode 1000: Total Reward = 1\n",
            "Episode 1500: Total Reward = 1\n",
            "Episode 2000: Total Reward = 0\n",
            "Episode 2500: Total Reward = 0\n",
            "Episode 3000: Total Reward = 1\n",
            "\n",
            " Training complete!\n"
          ]
        }
      ]
    },
    {
      "cell_type": "code",
      "source": [
        "# Step 6: Test the trained agent\n",
        "state, _ = test_env.reset()\n",
        "done = False\n",
        "total_reward = 0\n",
        "\n",
        "print(\"\\n Step-by-step agent movement:\")\n",
        "while not done:\n",
        "    action = np.argmax(q_table[state])\n",
        "    next_state, reward, terminated, truncated, _ = test_env.step(action)\n",
        "    done = terminated or truncated\n",
        "    print(f\"Step: Agent moved to state {next_state}\")\n",
        "    total_reward += reward\n",
        "    state = next_state\n",
        "\n",
        "print(\"\\n Agent reached the goal with total reward:\", total_reward)"
      ],
      "metadata": {
        "colab": {
          "base_uri": "https://localhost:8080/"
        },
        "id": "SDFYozSRTSe4",
        "outputId": "60a3547d-aa1a-478c-c908-851b9083b1c6"
      },
      "execution_count": 6,
      "outputs": [
        {
          "output_type": "stream",
          "name": "stdout",
          "text": [
            "\n",
            " Step-by-step agent movement:\n",
            "Step: Agent moved to state 1\n",
            "Step: Agent moved to state 2\n",
            "Step: Agent moved to state 6\n",
            "Step: Agent moved to state 10\n",
            "Step: Agent moved to state 14\n",
            "Step: Agent moved to state 15\n",
            "\n",
            " Agent reached the goal with total reward: 1\n"
          ]
        }
      ]
    }
  ]
}